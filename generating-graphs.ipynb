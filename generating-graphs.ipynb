{
 "cells": [
  {
   "cell_type": "code",
   "execution_count": 4,
   "metadata": {},
   "outputs": [
    {
     "name": "stdout",
     "output_type": "stream",
     "text": [
      "[<networkx.classes.graph.Graph object at 0x10b442210>, <networkx.classes.graph.Graph object at 0x10b4405d0>, <networkx.classes.graph.Graph object at 0x10b4412d0>, <networkx.classes.graph.Graph object at 0x10b440790>]\n",
      "[<networkx.classes.graph.Graph object at 0x10b463010>, <networkx.classes.graph.Graph object at 0x10b4629d0>]\n",
      "[<networkx.classes.graph.Graph object at 0x10b43af90>]\n"
     ]
    }
   ],
   "source": [
    "from networkx import graph_atlas_g\n",
    "\n",
    "three_node_graphs = [g for g in graph_atlas_g() if len(g.nodes())==3]\n",
    "two_node_graphs = [g for g in graph_atlas_g() if len(g.nodes())==2]\n",
    "one_node_graphs = [g for g in graph_atlas_g() if len(g.nodes())==1]"
   ]
  }
 ],
 "metadata": {
  "kernelspec": {
   "display_name": "base",
   "language": "python",
   "name": "python3"
  },
  "language_info": {
   "codemirror_mode": {
    "name": "ipython",
    "version": 3
   },
   "file_extension": ".py",
   "mimetype": "text/x-python",
   "name": "python",
   "nbconvert_exporter": "python",
   "pygments_lexer": "ipython3",
   "version": "3.11.5"
  }
 },
 "nbformat": 4,
 "nbformat_minor": 2
}
